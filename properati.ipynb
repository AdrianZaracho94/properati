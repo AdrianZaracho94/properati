{
 "cells": [
  {
   "cell_type": "code",
   "execution_count": 1,
   "metadata": {},
   "outputs": [],
   "source": [
    "import pandas as pd\n",
    "import numpy as np\n",
    "import matplotlib.pyplot as plt"
   ]
  },
  {
   "cell_type": "code",
   "execution_count": 2,
   "metadata": {},
   "outputs": [
    {
     "data": {
      "text/html": [
       "<div>\n",
       "<style scoped>\n",
       "    .dataframe tbody tr th:only-of-type {\n",
       "        vertical-align: middle;\n",
       "    }\n",
       "\n",
       "    .dataframe tbody tr th {\n",
       "        vertical-align: top;\n",
       "    }\n",
       "\n",
       "    .dataframe thead th {\n",
       "        text-align: right;\n",
       "    }\n",
       "</style>\n",
       "<table border=\"1\" class=\"dataframe\">\n",
       "  <thead>\n",
       "    <tr style=\"text-align: right;\">\n",
       "      <th></th>\n",
       "      <th>id</th>\n",
       "      <th>ad_type</th>\n",
       "      <th>start_date</th>\n",
       "      <th>end_date</th>\n",
       "      <th>created_on</th>\n",
       "      <th>lat</th>\n",
       "      <th>lon</th>\n",
       "      <th>l1</th>\n",
       "      <th>l2</th>\n",
       "      <th>l3</th>\n",
       "      <th>...</th>\n",
       "      <th>bathrooms</th>\n",
       "      <th>surface_total</th>\n",
       "      <th>surface_covered</th>\n",
       "      <th>price</th>\n",
       "      <th>currency</th>\n",
       "      <th>price_period</th>\n",
       "      <th>title</th>\n",
       "      <th>description</th>\n",
       "      <th>property_type</th>\n",
       "      <th>operation_type</th>\n",
       "    </tr>\n",
       "  </thead>\n",
       "  <tbody>\n",
       "    <tr>\n",
       "      <th>0</th>\n",
       "      <td>DyVXfkpKygVBKuUk5olH+A==</td>\n",
       "      <td>Propiedad</td>\n",
       "      <td>2020-08-22</td>\n",
       "      <td>2020-09-03</td>\n",
       "      <td>2020-08-22</td>\n",
       "      <td>-34.407468</td>\n",
       "      <td>-58.957367</td>\n",
       "      <td>Argentina</td>\n",
       "      <td>Bs.As. G.B.A. Zona Norte</td>\n",
       "      <td>Pilar</td>\n",
       "      <td>...</td>\n",
       "      <td>NaN</td>\n",
       "      <td>133139.0</td>\n",
       "      <td>NaN</td>\n",
       "      <td>NaN</td>\n",
       "      <td>NaN</td>\n",
       "      <td>Mensual</td>\n",
       "      <td>VENTA - Lote Industrial 130.000m2 - Parque Ind...</td>\n",
       "      <td>Lote (Nro.50) mide 133.139 m2\\n&lt;br&gt;Valor: U$S ...</td>\n",
       "      <td>Lote</td>\n",
       "      <td>Venta</td>\n",
       "    </tr>\n",
       "    <tr>\n",
       "      <th>1</th>\n",
       "      <td>9naojilaMecJN4jlQiTkGg==</td>\n",
       "      <td>Propiedad</td>\n",
       "      <td>2020-08-22</td>\n",
       "      <td>2020-09-04</td>\n",
       "      <td>2020-08-22</td>\n",
       "      <td>-37.996039</td>\n",
       "      <td>-57.542509</td>\n",
       "      <td>Argentina</td>\n",
       "      <td>Buenos Aires Costa Atlántica</td>\n",
       "      <td>Mar del Plata</td>\n",
       "      <td>...</td>\n",
       "      <td>NaN</td>\n",
       "      <td>687.0</td>\n",
       "      <td>687.0</td>\n",
       "      <td>NaN</td>\n",
       "      <td>NaN</td>\n",
       "      <td>Mensual</td>\n",
       "      <td>Casa - Santa Cecilia</td>\n",
       "      <td>Conjunto edilicio de casa y departamentos en b...</td>\n",
       "      <td>Otro</td>\n",
       "      <td>Venta</td>\n",
       "    </tr>\n",
       "    <tr>\n",
       "      <th>2</th>\n",
       "      <td>tlCPRJPjoDEUzuuCelemAQ==</td>\n",
       "      <td>Propiedad</td>\n",
       "      <td>2020-08-22</td>\n",
       "      <td>2020-08-31</td>\n",
       "      <td>2020-08-22</td>\n",
       "      <td>-31.380187</td>\n",
       "      <td>-58.009182</td>\n",
       "      <td>Argentina</td>\n",
       "      <td>Entre Ríos</td>\n",
       "      <td>Concordia</td>\n",
       "      <td>...</td>\n",
       "      <td>1.0</td>\n",
       "      <td>80.0</td>\n",
       "      <td>80.0</td>\n",
       "      <td>NaN</td>\n",
       "      <td>NaN</td>\n",
       "      <td>Mensual</td>\n",
       "      <td>Casa - Concordia</td>\n",
       "      <td>Casa de un dormitorio, cocina, baño, living co...</td>\n",
       "      <td>Casa</td>\n",
       "      <td>Alquiler</td>\n",
       "    </tr>\n",
       "    <tr>\n",
       "      <th>3</th>\n",
       "      <td>Zw3b91glQUO3HNrM5fPYlQ==</td>\n",
       "      <td>Propiedad</td>\n",
       "      <td>2020-08-22</td>\n",
       "      <td>2020-09-04</td>\n",
       "      <td>2020-08-22</td>\n",
       "      <td>-27.494106</td>\n",
       "      <td>-55.123455</td>\n",
       "      <td>Argentina</td>\n",
       "      <td>Misiones</td>\n",
       "      <td>Oberá</td>\n",
       "      <td>...</td>\n",
       "      <td>1.0</td>\n",
       "      <td>NaN</td>\n",
       "      <td>NaN</td>\n",
       "      <td>NaN</td>\n",
       "      <td>NaN</td>\n",
       "      <td>Mensual</td>\n",
       "      <td>Terreno - Obera</td>\n",
       "      <td>IMPORTANTE PROPIEDAD EN VENTA EN OBERA MISIONE...</td>\n",
       "      <td>Lote</td>\n",
       "      <td>Venta</td>\n",
       "    </tr>\n",
       "    <tr>\n",
       "      <th>4</th>\n",
       "      <td>bsU81gm9JEgtZCbTYgvykg==</td>\n",
       "      <td>Propiedad</td>\n",
       "      <td>2020-08-22</td>\n",
       "      <td>2020-09-04</td>\n",
       "      <td>2020-08-22</td>\n",
       "      <td>-32.948856</td>\n",
       "      <td>-60.630464</td>\n",
       "      <td>Argentina</td>\n",
       "      <td>Santa Fe</td>\n",
       "      <td>Rosario</td>\n",
       "      <td>...</td>\n",
       "      <td>1.0</td>\n",
       "      <td>76.0</td>\n",
       "      <td>66.0</td>\n",
       "      <td>NaN</td>\n",
       "      <td>NaN</td>\n",
       "      <td>Mensual</td>\n",
       "      <td>Departamento - Rosario</td>\n",
       "      <td>PORTAL DE LOS MARINOS&lt;br&gt;Es un complejo de viv...</td>\n",
       "      <td>Departamento</td>\n",
       "      <td>Venta</td>\n",
       "    </tr>\n",
       "    <tr>\n",
       "      <th>...</th>\n",
       "      <td>...</td>\n",
       "      <td>...</td>\n",
       "      <td>...</td>\n",
       "      <td>...</td>\n",
       "      <td>...</td>\n",
       "      <td>...</td>\n",
       "      <td>...</td>\n",
       "      <td>...</td>\n",
       "      <td>...</td>\n",
       "      <td>...</td>\n",
       "      <td>...</td>\n",
       "      <td>...</td>\n",
       "      <td>...</td>\n",
       "      <td>...</td>\n",
       "      <td>...</td>\n",
       "      <td>...</td>\n",
       "      <td>...</td>\n",
       "      <td>...</td>\n",
       "      <td>...</td>\n",
       "      <td>...</td>\n",
       "      <td>...</td>\n",
       "    </tr>\n",
       "    <tr>\n",
       "      <th>999995</th>\n",
       "      <td>jMYhwydKqUje8HCx7RzwJQ==</td>\n",
       "      <td>Propiedad</td>\n",
       "      <td>2020-12-04</td>\n",
       "      <td>9999-12-31</td>\n",
       "      <td>2020-12-04</td>\n",
       "      <td>-32.958863</td>\n",
       "      <td>-60.665633</td>\n",
       "      <td>Argentina</td>\n",
       "      <td>Santa Fe</td>\n",
       "      <td>Rosario</td>\n",
       "      <td>...</td>\n",
       "      <td>7.0</td>\n",
       "      <td>400.0</td>\n",
       "      <td>300.0</td>\n",
       "      <td>400000.0</td>\n",
       "      <td>USD</td>\n",
       "      <td>Mensual</td>\n",
       "      <td>Se vende imponente casa a minutos del centro d...</td>\n",
       "      <td>Esta excelente propiedad se encuentra ubicada ...</td>\n",
       "      <td>Casa</td>\n",
       "      <td>Venta</td>\n",
       "    </tr>\n",
       "    <tr>\n",
       "      <th>999996</th>\n",
       "      <td>FsP7ornzqnK1CvUL8quQ9Q==</td>\n",
       "      <td>Propiedad</td>\n",
       "      <td>2020-12-04</td>\n",
       "      <td>9999-12-31</td>\n",
       "      <td>2020-12-04</td>\n",
       "      <td>-34.596587</td>\n",
       "      <td>-58.376893</td>\n",
       "      <td>Argentina</td>\n",
       "      <td>Capital Federal</td>\n",
       "      <td>Retiro</td>\n",
       "      <td>...</td>\n",
       "      <td>5.0</td>\n",
       "      <td>465.0</td>\n",
       "      <td>465.0</td>\n",
       "      <td>3700.0</td>\n",
       "      <td>USD</td>\n",
       "      <td>Mensual</td>\n",
       "      <td>Edificio Comercial - Retiro</td>\n",
       "      <td>GRAN EDIFICIO PETIT HOTEL ESTILO FRANCÉS  CON ...</td>\n",
       "      <td>Local comercial</td>\n",
       "      <td>Alquiler</td>\n",
       "    </tr>\n",
       "    <tr>\n",
       "      <th>999997</th>\n",
       "      <td>fJLVUIziPl31ACoaE/fj1g==</td>\n",
       "      <td>Propiedad</td>\n",
       "      <td>2020-12-04</td>\n",
       "      <td>9999-12-31</td>\n",
       "      <td>2020-12-04</td>\n",
       "      <td>-34.576445</td>\n",
       "      <td>-58.432603</td>\n",
       "      <td>Argentina</td>\n",
       "      <td>Capital Federal</td>\n",
       "      <td>Palermo</td>\n",
       "      <td>...</td>\n",
       "      <td>2.0</td>\n",
       "      <td>615.0</td>\n",
       "      <td>425.0</td>\n",
       "      <td>570000.0</td>\n",
       "      <td>USD</td>\n",
       "      <td>Mensual</td>\n",
       "      <td>Edificio Comercial  en excelente zona de Paler...</td>\n",
       "      <td>Edificio Comercial CON ENTRADA INDEPENDIENTE S...</td>\n",
       "      <td>Local comercial</td>\n",
       "      <td>Venta</td>\n",
       "    </tr>\n",
       "    <tr>\n",
       "      <th>999998</th>\n",
       "      <td>7mW3bUSJFA0RBOj2xtBi+w==</td>\n",
       "      <td>Propiedad</td>\n",
       "      <td>2020-12-04</td>\n",
       "      <td>9999-12-31</td>\n",
       "      <td>2020-12-04</td>\n",
       "      <td>-32.866636</td>\n",
       "      <td>-68.841144</td>\n",
       "      <td>Argentina</td>\n",
       "      <td>Mendoza</td>\n",
       "      <td>NaN</td>\n",
       "      <td>...</td>\n",
       "      <td>20.0</td>\n",
       "      <td>450.0</td>\n",
       "      <td>450.0</td>\n",
       "      <td>800000.0</td>\n",
       "      <td>USD</td>\n",
       "      <td>Mensual</td>\n",
       "      <td>Edificio Comercial - Capital</td>\n",
       "      <td>Local 450m² con Cloaca en 25 de mayo, Argentin...</td>\n",
       "      <td>Local comercial</td>\n",
       "      <td>Venta</td>\n",
       "    </tr>\n",
       "    <tr>\n",
       "      <th>999999</th>\n",
       "      <td>rEynGyGrrsxNeG0ib5vUBA==</td>\n",
       "      <td>Propiedad</td>\n",
       "      <td>2020-12-04</td>\n",
       "      <td>2020-12-21</td>\n",
       "      <td>2020-12-04</td>\n",
       "      <td>-34.447524</td>\n",
       "      <td>-58.631552</td>\n",
       "      <td>Argentina</td>\n",
       "      <td>Bs.As. G.B.A. Zona Norte</td>\n",
       "      <td>Tigre</td>\n",
       "      <td>...</td>\n",
       "      <td>4.0</td>\n",
       "      <td>350.0</td>\n",
       "      <td>300.0</td>\n",
       "      <td>7000.0</td>\n",
       "      <td>USD</td>\n",
       "      <td>Mensual</td>\n",
       "      <td>INCREÍBLE ECASA A LA LAGUNA DESDE DIC a FEBRER...</td>\n",
       "      <td>ESPECTACULAR CASA A LA LAGUNA  -BARRIO SANTA B...</td>\n",
       "      <td>Casa</td>\n",
       "      <td>Alquiler temporal</td>\n",
       "    </tr>\n",
       "  </tbody>\n",
       "</table>\n",
       "<p>1000000 rows × 25 columns</p>\n",
       "</div>"
      ],
      "text/plain": [
       "                              id    ad_type  start_date    end_date  \\\n",
       "0       DyVXfkpKygVBKuUk5olH+A==  Propiedad  2020-08-22  2020-09-03   \n",
       "1       9naojilaMecJN4jlQiTkGg==  Propiedad  2020-08-22  2020-09-04   \n",
       "2       tlCPRJPjoDEUzuuCelemAQ==  Propiedad  2020-08-22  2020-08-31   \n",
       "3       Zw3b91glQUO3HNrM5fPYlQ==  Propiedad  2020-08-22  2020-09-04   \n",
       "4       bsU81gm9JEgtZCbTYgvykg==  Propiedad  2020-08-22  2020-09-04   \n",
       "...                          ...        ...         ...         ...   \n",
       "999995  jMYhwydKqUje8HCx7RzwJQ==  Propiedad  2020-12-04  9999-12-31   \n",
       "999996  FsP7ornzqnK1CvUL8quQ9Q==  Propiedad  2020-12-04  9999-12-31   \n",
       "999997  fJLVUIziPl31ACoaE/fj1g==  Propiedad  2020-12-04  9999-12-31   \n",
       "999998  7mW3bUSJFA0RBOj2xtBi+w==  Propiedad  2020-12-04  9999-12-31   \n",
       "999999  rEynGyGrrsxNeG0ib5vUBA==  Propiedad  2020-12-04  2020-12-21   \n",
       "\n",
       "        created_on        lat        lon         l1  \\\n",
       "0       2020-08-22 -34.407468 -58.957367  Argentina   \n",
       "1       2020-08-22 -37.996039 -57.542509  Argentina   \n",
       "2       2020-08-22 -31.380187 -58.009182  Argentina   \n",
       "3       2020-08-22 -27.494106 -55.123455  Argentina   \n",
       "4       2020-08-22 -32.948856 -60.630464  Argentina   \n",
       "...            ...        ...        ...        ...   \n",
       "999995  2020-12-04 -32.958863 -60.665633  Argentina   \n",
       "999996  2020-12-04 -34.596587 -58.376893  Argentina   \n",
       "999997  2020-12-04 -34.576445 -58.432603  Argentina   \n",
       "999998  2020-12-04 -32.866636 -68.841144  Argentina   \n",
       "999999  2020-12-04 -34.447524 -58.631552  Argentina   \n",
       "\n",
       "                                  l2             l3  ... bathrooms  \\\n",
       "0           Bs.As. G.B.A. Zona Norte          Pilar  ...       NaN   \n",
       "1       Buenos Aires Costa Atlántica  Mar del Plata  ...       NaN   \n",
       "2                         Entre Ríos      Concordia  ...       1.0   \n",
       "3                           Misiones          Oberá  ...       1.0   \n",
       "4                           Santa Fe        Rosario  ...       1.0   \n",
       "...                              ...            ...  ...       ...   \n",
       "999995                      Santa Fe        Rosario  ...       7.0   \n",
       "999996               Capital Federal         Retiro  ...       5.0   \n",
       "999997               Capital Federal        Palermo  ...       2.0   \n",
       "999998                       Mendoza            NaN  ...      20.0   \n",
       "999999      Bs.As. G.B.A. Zona Norte          Tigre  ...       4.0   \n",
       "\n",
       "       surface_total  surface_covered     price  currency  price_period  \\\n",
       "0           133139.0              NaN       NaN       NaN       Mensual   \n",
       "1              687.0            687.0       NaN       NaN       Mensual   \n",
       "2               80.0             80.0       NaN       NaN       Mensual   \n",
       "3                NaN              NaN       NaN       NaN       Mensual   \n",
       "4               76.0             66.0       NaN       NaN       Mensual   \n",
       "...              ...              ...       ...       ...           ...   \n",
       "999995         400.0            300.0  400000.0       USD       Mensual   \n",
       "999996         465.0            465.0    3700.0       USD       Mensual   \n",
       "999997         615.0            425.0  570000.0       USD       Mensual   \n",
       "999998         450.0            450.0  800000.0       USD       Mensual   \n",
       "999999         350.0            300.0    7000.0       USD       Mensual   \n",
       "\n",
       "                                                    title  \\\n",
       "0       VENTA - Lote Industrial 130.000m2 - Parque Ind...   \n",
       "1                                    Casa - Santa Cecilia   \n",
       "2                                        Casa - Concordia   \n",
       "3                                         Terreno - Obera   \n",
       "4                                  Departamento - Rosario   \n",
       "...                                                   ...   \n",
       "999995  Se vende imponente casa a minutos del centro d...   \n",
       "999996                        Edificio Comercial - Retiro   \n",
       "999997  Edificio Comercial  en excelente zona de Paler...   \n",
       "999998                       Edificio Comercial - Capital   \n",
       "999999  INCREÍBLE ECASA A LA LAGUNA DESDE DIC a FEBRER...   \n",
       "\n",
       "                                              description    property_type  \\\n",
       "0       Lote (Nro.50) mide 133.139 m2\\n<br>Valor: U$S ...             Lote   \n",
       "1       Conjunto edilicio de casa y departamentos en b...             Otro   \n",
       "2       Casa de un dormitorio, cocina, baño, living co...             Casa   \n",
       "3       IMPORTANTE PROPIEDAD EN VENTA EN OBERA MISIONE...             Lote   \n",
       "4       PORTAL DE LOS MARINOS<br>Es un complejo de viv...     Departamento   \n",
       "...                                                   ...              ...   \n",
       "999995  Esta excelente propiedad se encuentra ubicada ...             Casa   \n",
       "999996  GRAN EDIFICIO PETIT HOTEL ESTILO FRANCÉS  CON ...  Local comercial   \n",
       "999997  Edificio Comercial CON ENTRADA INDEPENDIENTE S...  Local comercial   \n",
       "999998  Local 450m² con Cloaca en 25 de mayo, Argentin...  Local comercial   \n",
       "999999  ESPECTACULAR CASA A LA LAGUNA  -BARRIO SANTA B...             Casa   \n",
       "\n",
       "           operation_type  \n",
       "0                   Venta  \n",
       "1                   Venta  \n",
       "2                Alquiler  \n",
       "3                   Venta  \n",
       "4                   Venta  \n",
       "...                   ...  \n",
       "999995              Venta  \n",
       "999996           Alquiler  \n",
       "999997              Venta  \n",
       "999998              Venta  \n",
       "999999  Alquiler temporal  \n",
       "\n",
       "[1000000 rows x 25 columns]"
      ]
     },
     "execution_count": 2,
     "metadata": {},
     "output_type": "execute_result"
    }
   ],
   "source": [
    "df = pd.read_csv('ar_properties.csv')\n",
    "df"
   ]
  },
  {
   "cell_type": "code",
   "execution_count": 3,
   "metadata": {},
   "outputs": [
    {
     "data": {
      "text/html": [
       "<div>\n",
       "<style scoped>\n",
       "    .dataframe tbody tr th:only-of-type {\n",
       "        vertical-align: middle;\n",
       "    }\n",
       "\n",
       "    .dataframe tbody tr th {\n",
       "        vertical-align: top;\n",
       "    }\n",
       "\n",
       "    .dataframe thead th {\n",
       "        text-align: right;\n",
       "    }\n",
       "</style>\n",
       "<table border=\"1\" class=\"dataframe\">\n",
       "  <thead>\n",
       "    <tr style=\"text-align: right;\">\n",
       "      <th></th>\n",
       "      <th>id</th>\n",
       "      <th>ad_type</th>\n",
       "      <th>start_date</th>\n",
       "      <th>end_date</th>\n",
       "      <th>created_on</th>\n",
       "      <th>lat</th>\n",
       "      <th>lon</th>\n",
       "      <th>l1</th>\n",
       "      <th>l2</th>\n",
       "      <th>l3</th>\n",
       "      <th>...</th>\n",
       "      <th>bathrooms</th>\n",
       "      <th>surface_total</th>\n",
       "      <th>surface_covered</th>\n",
       "      <th>price</th>\n",
       "      <th>currency</th>\n",
       "      <th>price_period</th>\n",
       "      <th>title</th>\n",
       "      <th>description</th>\n",
       "      <th>property_type</th>\n",
       "      <th>operation_type</th>\n",
       "    </tr>\n",
       "  </thead>\n",
       "  <tbody>\n",
       "    <tr>\n",
       "      <th>0</th>\n",
       "      <td>DyVXfkpKygVBKuUk5olH+A==</td>\n",
       "      <td>Propiedad</td>\n",
       "      <td>2020-08-22</td>\n",
       "      <td>2020-09-03</td>\n",
       "      <td>2020-08-22</td>\n",
       "      <td>-34.407468</td>\n",
       "      <td>-58.957367</td>\n",
       "      <td>Argentina</td>\n",
       "      <td>Bs.As. G.B.A. Zona Norte</td>\n",
       "      <td>Pilar</td>\n",
       "      <td>...</td>\n",
       "      <td>NaN</td>\n",
       "      <td>133139.0</td>\n",
       "      <td>NaN</td>\n",
       "      <td>NaN</td>\n",
       "      <td>NaN</td>\n",
       "      <td>Mensual</td>\n",
       "      <td>VENTA - Lote Industrial 130.000m2 - Parque Ind...</td>\n",
       "      <td>Lote (Nro.50) mide 133.139 m2\\n&lt;br&gt;Valor: U$S ...</td>\n",
       "      <td>Lote</td>\n",
       "      <td>Venta</td>\n",
       "    </tr>\n",
       "    <tr>\n",
       "      <th>1</th>\n",
       "      <td>9naojilaMecJN4jlQiTkGg==</td>\n",
       "      <td>Propiedad</td>\n",
       "      <td>2020-08-22</td>\n",
       "      <td>2020-09-04</td>\n",
       "      <td>2020-08-22</td>\n",
       "      <td>-37.996039</td>\n",
       "      <td>-57.542509</td>\n",
       "      <td>Argentina</td>\n",
       "      <td>Buenos Aires Costa Atlántica</td>\n",
       "      <td>Mar del Plata</td>\n",
       "      <td>...</td>\n",
       "      <td>NaN</td>\n",
       "      <td>687.0</td>\n",
       "      <td>687.0</td>\n",
       "      <td>NaN</td>\n",
       "      <td>NaN</td>\n",
       "      <td>Mensual</td>\n",
       "      <td>Casa - Santa Cecilia</td>\n",
       "      <td>Conjunto edilicio de casa y departamentos en b...</td>\n",
       "      <td>Otro</td>\n",
       "      <td>Venta</td>\n",
       "    </tr>\n",
       "    <tr>\n",
       "      <th>2</th>\n",
       "      <td>tlCPRJPjoDEUzuuCelemAQ==</td>\n",
       "      <td>Propiedad</td>\n",
       "      <td>2020-08-22</td>\n",
       "      <td>2020-08-31</td>\n",
       "      <td>2020-08-22</td>\n",
       "      <td>-31.380187</td>\n",
       "      <td>-58.009182</td>\n",
       "      <td>Argentina</td>\n",
       "      <td>Entre Ríos</td>\n",
       "      <td>Concordia</td>\n",
       "      <td>...</td>\n",
       "      <td>1.0</td>\n",
       "      <td>80.0</td>\n",
       "      <td>80.0</td>\n",
       "      <td>NaN</td>\n",
       "      <td>NaN</td>\n",
       "      <td>Mensual</td>\n",
       "      <td>Casa - Concordia</td>\n",
       "      <td>Casa de un dormitorio, cocina, baño, living co...</td>\n",
       "      <td>Casa</td>\n",
       "      <td>Alquiler</td>\n",
       "    </tr>\n",
       "    <tr>\n",
       "      <th>3</th>\n",
       "      <td>Zw3b91glQUO3HNrM5fPYlQ==</td>\n",
       "      <td>Propiedad</td>\n",
       "      <td>2020-08-22</td>\n",
       "      <td>2020-09-04</td>\n",
       "      <td>2020-08-22</td>\n",
       "      <td>-27.494106</td>\n",
       "      <td>-55.123455</td>\n",
       "      <td>Argentina</td>\n",
       "      <td>Misiones</td>\n",
       "      <td>Oberá</td>\n",
       "      <td>...</td>\n",
       "      <td>1.0</td>\n",
       "      <td>NaN</td>\n",
       "      <td>NaN</td>\n",
       "      <td>NaN</td>\n",
       "      <td>NaN</td>\n",
       "      <td>Mensual</td>\n",
       "      <td>Terreno - Obera</td>\n",
       "      <td>IMPORTANTE PROPIEDAD EN VENTA EN OBERA MISIONE...</td>\n",
       "      <td>Lote</td>\n",
       "      <td>Venta</td>\n",
       "    </tr>\n",
       "    <tr>\n",
       "      <th>4</th>\n",
       "      <td>bsU81gm9JEgtZCbTYgvykg==</td>\n",
       "      <td>Propiedad</td>\n",
       "      <td>2020-08-22</td>\n",
       "      <td>2020-09-04</td>\n",
       "      <td>2020-08-22</td>\n",
       "      <td>-32.948856</td>\n",
       "      <td>-60.630464</td>\n",
       "      <td>Argentina</td>\n",
       "      <td>Santa Fe</td>\n",
       "      <td>Rosario</td>\n",
       "      <td>...</td>\n",
       "      <td>1.0</td>\n",
       "      <td>76.0</td>\n",
       "      <td>66.0</td>\n",
       "      <td>NaN</td>\n",
       "      <td>NaN</td>\n",
       "      <td>Mensual</td>\n",
       "      <td>Departamento - Rosario</td>\n",
       "      <td>PORTAL DE LOS MARINOS&lt;br&gt;Es un complejo de viv...</td>\n",
       "      <td>Departamento</td>\n",
       "      <td>Venta</td>\n",
       "    </tr>\n",
       "    <tr>\n",
       "      <th>...</th>\n",
       "      <td>...</td>\n",
       "      <td>...</td>\n",
       "      <td>...</td>\n",
       "      <td>...</td>\n",
       "      <td>...</td>\n",
       "      <td>...</td>\n",
       "      <td>...</td>\n",
       "      <td>...</td>\n",
       "      <td>...</td>\n",
       "      <td>...</td>\n",
       "      <td>...</td>\n",
       "      <td>...</td>\n",
       "      <td>...</td>\n",
       "      <td>...</td>\n",
       "      <td>...</td>\n",
       "      <td>...</td>\n",
       "      <td>...</td>\n",
       "      <td>...</td>\n",
       "      <td>...</td>\n",
       "      <td>...</td>\n",
       "      <td>...</td>\n",
       "    </tr>\n",
       "    <tr>\n",
       "      <th>999995</th>\n",
       "      <td>jMYhwydKqUje8HCx7RzwJQ==</td>\n",
       "      <td>Propiedad</td>\n",
       "      <td>2020-12-04</td>\n",
       "      <td>9999-12-31</td>\n",
       "      <td>2020-12-04</td>\n",
       "      <td>-32.958863</td>\n",
       "      <td>-60.665633</td>\n",
       "      <td>Argentina</td>\n",
       "      <td>Santa Fe</td>\n",
       "      <td>Rosario</td>\n",
       "      <td>...</td>\n",
       "      <td>7.0</td>\n",
       "      <td>400.0</td>\n",
       "      <td>300.0</td>\n",
       "      <td>400000.0</td>\n",
       "      <td>USD</td>\n",
       "      <td>Mensual</td>\n",
       "      <td>Se vende imponente casa a minutos del centro d...</td>\n",
       "      <td>Esta excelente propiedad se encuentra ubicada ...</td>\n",
       "      <td>Casa</td>\n",
       "      <td>Venta</td>\n",
       "    </tr>\n",
       "    <tr>\n",
       "      <th>999996</th>\n",
       "      <td>FsP7ornzqnK1CvUL8quQ9Q==</td>\n",
       "      <td>Propiedad</td>\n",
       "      <td>2020-12-04</td>\n",
       "      <td>9999-12-31</td>\n",
       "      <td>2020-12-04</td>\n",
       "      <td>-34.596587</td>\n",
       "      <td>-58.376893</td>\n",
       "      <td>Argentina</td>\n",
       "      <td>Capital Federal</td>\n",
       "      <td>Retiro</td>\n",
       "      <td>...</td>\n",
       "      <td>5.0</td>\n",
       "      <td>465.0</td>\n",
       "      <td>465.0</td>\n",
       "      <td>3700.0</td>\n",
       "      <td>USD</td>\n",
       "      <td>Mensual</td>\n",
       "      <td>Edificio Comercial - Retiro</td>\n",
       "      <td>GRAN EDIFICIO PETIT HOTEL ESTILO FRANCÉS  CON ...</td>\n",
       "      <td>Local comercial</td>\n",
       "      <td>Alquiler</td>\n",
       "    </tr>\n",
       "    <tr>\n",
       "      <th>999997</th>\n",
       "      <td>fJLVUIziPl31ACoaE/fj1g==</td>\n",
       "      <td>Propiedad</td>\n",
       "      <td>2020-12-04</td>\n",
       "      <td>9999-12-31</td>\n",
       "      <td>2020-12-04</td>\n",
       "      <td>-34.576445</td>\n",
       "      <td>-58.432603</td>\n",
       "      <td>Argentina</td>\n",
       "      <td>Capital Federal</td>\n",
       "      <td>Palermo</td>\n",
       "      <td>...</td>\n",
       "      <td>2.0</td>\n",
       "      <td>615.0</td>\n",
       "      <td>425.0</td>\n",
       "      <td>570000.0</td>\n",
       "      <td>USD</td>\n",
       "      <td>Mensual</td>\n",
       "      <td>Edificio Comercial  en excelente zona de Paler...</td>\n",
       "      <td>Edificio Comercial CON ENTRADA INDEPENDIENTE S...</td>\n",
       "      <td>Local comercial</td>\n",
       "      <td>Venta</td>\n",
       "    </tr>\n",
       "    <tr>\n",
       "      <th>999998</th>\n",
       "      <td>7mW3bUSJFA0RBOj2xtBi+w==</td>\n",
       "      <td>Propiedad</td>\n",
       "      <td>2020-12-04</td>\n",
       "      <td>9999-12-31</td>\n",
       "      <td>2020-12-04</td>\n",
       "      <td>-32.866636</td>\n",
       "      <td>-68.841144</td>\n",
       "      <td>Argentina</td>\n",
       "      <td>Mendoza</td>\n",
       "      <td>NaN</td>\n",
       "      <td>...</td>\n",
       "      <td>20.0</td>\n",
       "      <td>450.0</td>\n",
       "      <td>450.0</td>\n",
       "      <td>800000.0</td>\n",
       "      <td>USD</td>\n",
       "      <td>Mensual</td>\n",
       "      <td>Edificio Comercial - Capital</td>\n",
       "      <td>Local 450m² con Cloaca en 25 de mayo, Argentin...</td>\n",
       "      <td>Local comercial</td>\n",
       "      <td>Venta</td>\n",
       "    </tr>\n",
       "    <tr>\n",
       "      <th>999999</th>\n",
       "      <td>rEynGyGrrsxNeG0ib5vUBA==</td>\n",
       "      <td>Propiedad</td>\n",
       "      <td>2020-12-04</td>\n",
       "      <td>2020-12-21</td>\n",
       "      <td>2020-12-04</td>\n",
       "      <td>-34.447524</td>\n",
       "      <td>-58.631552</td>\n",
       "      <td>Argentina</td>\n",
       "      <td>Bs.As. G.B.A. Zona Norte</td>\n",
       "      <td>Tigre</td>\n",
       "      <td>...</td>\n",
       "      <td>4.0</td>\n",
       "      <td>350.0</td>\n",
       "      <td>300.0</td>\n",
       "      <td>7000.0</td>\n",
       "      <td>USD</td>\n",
       "      <td>Mensual</td>\n",
       "      <td>INCREÍBLE ECASA A LA LAGUNA DESDE DIC a FEBRER...</td>\n",
       "      <td>ESPECTACULAR CASA A LA LAGUNA  -BARRIO SANTA B...</td>\n",
       "      <td>Casa</td>\n",
       "      <td>Alquiler temporal</td>\n",
       "    </tr>\n",
       "  </tbody>\n",
       "</table>\n",
       "<p>1000000 rows × 25 columns</p>\n",
       "</div>"
      ],
      "text/plain": [
       "                              id    ad_type  start_date    end_date  \\\n",
       "0       DyVXfkpKygVBKuUk5olH+A==  Propiedad  2020-08-22  2020-09-03   \n",
       "1       9naojilaMecJN4jlQiTkGg==  Propiedad  2020-08-22  2020-09-04   \n",
       "2       tlCPRJPjoDEUzuuCelemAQ==  Propiedad  2020-08-22  2020-08-31   \n",
       "3       Zw3b91glQUO3HNrM5fPYlQ==  Propiedad  2020-08-22  2020-09-04   \n",
       "4       bsU81gm9JEgtZCbTYgvykg==  Propiedad  2020-08-22  2020-09-04   \n",
       "...                          ...        ...         ...         ...   \n",
       "999995  jMYhwydKqUje8HCx7RzwJQ==  Propiedad  2020-12-04  9999-12-31   \n",
       "999996  FsP7ornzqnK1CvUL8quQ9Q==  Propiedad  2020-12-04  9999-12-31   \n",
       "999997  fJLVUIziPl31ACoaE/fj1g==  Propiedad  2020-12-04  9999-12-31   \n",
       "999998  7mW3bUSJFA0RBOj2xtBi+w==  Propiedad  2020-12-04  9999-12-31   \n",
       "999999  rEynGyGrrsxNeG0ib5vUBA==  Propiedad  2020-12-04  2020-12-21   \n",
       "\n",
       "        created_on        lat        lon         l1  \\\n",
       "0       2020-08-22 -34.407468 -58.957367  Argentina   \n",
       "1       2020-08-22 -37.996039 -57.542509  Argentina   \n",
       "2       2020-08-22 -31.380187 -58.009182  Argentina   \n",
       "3       2020-08-22 -27.494106 -55.123455  Argentina   \n",
       "4       2020-08-22 -32.948856 -60.630464  Argentina   \n",
       "...            ...        ...        ...        ...   \n",
       "999995  2020-12-04 -32.958863 -60.665633  Argentina   \n",
       "999996  2020-12-04 -34.596587 -58.376893  Argentina   \n",
       "999997  2020-12-04 -34.576445 -58.432603  Argentina   \n",
       "999998  2020-12-04 -32.866636 -68.841144  Argentina   \n",
       "999999  2020-12-04 -34.447524 -58.631552  Argentina   \n",
       "\n",
       "                                  l2             l3  ... bathrooms  \\\n",
       "0           Bs.As. G.B.A. Zona Norte          Pilar  ...       NaN   \n",
       "1       Buenos Aires Costa Atlántica  Mar del Plata  ...       NaN   \n",
       "2                         Entre Ríos      Concordia  ...       1.0   \n",
       "3                           Misiones          Oberá  ...       1.0   \n",
       "4                           Santa Fe        Rosario  ...       1.0   \n",
       "...                              ...            ...  ...       ...   \n",
       "999995                      Santa Fe        Rosario  ...       7.0   \n",
       "999996               Capital Federal         Retiro  ...       5.0   \n",
       "999997               Capital Federal        Palermo  ...       2.0   \n",
       "999998                       Mendoza            NaN  ...      20.0   \n",
       "999999      Bs.As. G.B.A. Zona Norte          Tigre  ...       4.0   \n",
       "\n",
       "       surface_total  surface_covered     price  currency  price_period  \\\n",
       "0           133139.0              NaN       NaN       NaN       Mensual   \n",
       "1              687.0            687.0       NaN       NaN       Mensual   \n",
       "2               80.0             80.0       NaN       NaN       Mensual   \n",
       "3                NaN              NaN       NaN       NaN       Mensual   \n",
       "4               76.0             66.0       NaN       NaN       Mensual   \n",
       "...              ...              ...       ...       ...           ...   \n",
       "999995         400.0            300.0  400000.0       USD       Mensual   \n",
       "999996         465.0            465.0    3700.0       USD       Mensual   \n",
       "999997         615.0            425.0  570000.0       USD       Mensual   \n",
       "999998         450.0            450.0  800000.0       USD       Mensual   \n",
       "999999         350.0            300.0    7000.0       USD       Mensual   \n",
       "\n",
       "                                                    title  \\\n",
       "0       VENTA - Lote Industrial 130.000m2 - Parque Ind...   \n",
       "1                                    Casa - Santa Cecilia   \n",
       "2                                        Casa - Concordia   \n",
       "3                                         Terreno - Obera   \n",
       "4                                  Departamento - Rosario   \n",
       "...                                                   ...   \n",
       "999995  Se vende imponente casa a minutos del centro d...   \n",
       "999996                        Edificio Comercial - Retiro   \n",
       "999997  Edificio Comercial  en excelente zona de Paler...   \n",
       "999998                       Edificio Comercial - Capital   \n",
       "999999  INCREÍBLE ECASA A LA LAGUNA DESDE DIC a FEBRER...   \n",
       "\n",
       "                                              description    property_type  \\\n",
       "0       Lote (Nro.50) mide 133.139 m2\\n<br>Valor: U$S ...             Lote   \n",
       "1       Conjunto edilicio de casa y departamentos en b...             Otro   \n",
       "2       Casa de un dormitorio, cocina, baño, living co...             Casa   \n",
       "3       IMPORTANTE PROPIEDAD EN VENTA EN OBERA MISIONE...             Lote   \n",
       "4       PORTAL DE LOS MARINOS<br>Es un complejo de viv...     Departamento   \n",
       "...                                                   ...              ...   \n",
       "999995  Esta excelente propiedad se encuentra ubicada ...             Casa   \n",
       "999996  GRAN EDIFICIO PETIT HOTEL ESTILO FRANCÉS  CON ...  Local comercial   \n",
       "999997  Edificio Comercial CON ENTRADA INDEPENDIENTE S...  Local comercial   \n",
       "999998  Local 450m² con Cloaca en 25 de mayo, Argentin...  Local comercial   \n",
       "999999  ESPECTACULAR CASA A LA LAGUNA  -BARRIO SANTA B...             Casa   \n",
       "\n",
       "           operation_type  \n",
       "0                   Venta  \n",
       "1                   Venta  \n",
       "2                Alquiler  \n",
       "3                   Venta  \n",
       "4                   Venta  \n",
       "...                   ...  \n",
       "999995              Venta  \n",
       "999996           Alquiler  \n",
       "999997              Venta  \n",
       "999998              Venta  \n",
       "999999  Alquiler temporal  \n",
       "\n",
       "[1000000 rows x 25 columns]"
      ]
     },
     "execution_count": 3,
     "metadata": {},
     "output_type": "execute_result"
    }
   ],
   "source": [
    "df"
   ]
  },
  {
   "cell_type": "markdown",
   "metadata": {},
   "source": [
    "# vemos las variables"
   ]
  },
  {
   "cell_type": "code",
   "execution_count": 3,
   "metadata": {},
   "outputs": [
    {
     "data": {
      "text/plain": [
       "Index(['id', 'ad_type', 'start_date', 'end_date', 'created_on', 'lat', 'lon',\n",
       "       'l1', 'l2', 'l3', 'l4', 'l5', 'l6', 'rooms', 'bedrooms', 'bathrooms',\n",
       "       'surface_total', 'surface_covered', 'price', 'currency', 'price_period',\n",
       "       'title', 'description', 'property_type', 'operation_type'],\n",
       "      dtype='object')"
      ]
     },
     "execution_count": 3,
     "metadata": {},
     "output_type": "execute_result"
    }
   ],
   "source": [
    "df.columns #con la funcion columns se puede ver los nombres de las variables"
   ]
  },
  {
   "cell_type": "markdown",
   "metadata": {},
   "source": [
    "# vemos los tipos de datos que estan en la base"
   ]
  },
  {
   "cell_type": "code",
   "execution_count": 4,
   "metadata": {},
   "outputs": [
    {
     "name": "stdout",
     "output_type": "stream",
     "text": [
      "<class 'pandas.core.frame.DataFrame'>\n",
      "RangeIndex: 1000000 entries, 0 to 999999\n",
      "Data columns (total 25 columns):\n",
      " #   Column           Non-Null Count    Dtype  \n",
      "---  ------           --------------    -----  \n",
      " 0   id               1000000 non-null  object \n",
      " 1   ad_type          1000000 non-null  object \n",
      " 2   start_date       1000000 non-null  object \n",
      " 3   end_date         1000000 non-null  object \n",
      " 4   created_on       1000000 non-null  object \n",
      " 5   lat              894233 non-null   float64\n",
      " 6   lon              894191 non-null   float64\n",
      " 7   l1               1000000 non-null  object \n",
      " 8   l2               1000000 non-null  object \n",
      " 9   l3               965273 non-null   object \n",
      " 10  l4               306162 non-null   object \n",
      " 11  l5               5530 non-null     object \n",
      " 12  l6               0 non-null        float64\n",
      " 13  rooms            714179 non-null   float64\n",
      " 14  bedrooms         649933 non-null   float64\n",
      " 15  bathrooms        765122 non-null   float64\n",
      " 16  surface_total    477831 non-null   float64\n",
      " 17  surface_covered  487756 non-null   float64\n",
      " 18  price            958243 non-null   float64\n",
      " 19  currency         955491 non-null   object \n",
      " 20  price_period     429870 non-null   object \n",
      " 21  title            999999 non-null   object \n",
      " 22  description      999958 non-null   object \n",
      " 23  property_type    1000000 non-null  object \n",
      " 24  operation_type   1000000 non-null  object \n",
      "dtypes: float64(9), object(16)\n",
      "memory usage: 190.7+ MB\n"
     ]
    }
   ],
   "source": [
    "df.info()  #con la funcion info() se puede ser los tipos de datos que tenemos en cada variable"
   ]
  },
  {
   "cell_type": "code",
   "execution_count": 5,
   "metadata": {},
   "outputs": [
    {
     "data": {
      "text/plain": [
       "Index(['id', 'ad_type', 'start_date', 'end_date', 'created_on', 'lat', 'lon',\n",
       "       'l1', 'l2', 'l3', 'l4', 'l5', 'l6', 'rooms', 'bedrooms', 'bathrooms',\n",
       "       'surface_total', 'surface_covered', 'price', 'currency', 'price_period',\n",
       "       'title', 'description', 'property_type', 'operation_type'],\n",
       "      dtype='object')"
      ]
     },
     "execution_count": 5,
     "metadata": {},
     "output_type": "execute_result"
    }
   ],
   "source": [
    "df.columns"
   ]
  },
  {
   "cell_type": "code",
   "execution_count": 8,
   "metadata": {},
   "outputs": [],
   "source": [
    "df2 = df.rename(columns={'ad_type':'tipo_aviso',\n",
    "                'start_date':'inicio_publicacion',\n",
    "                'end_date':'cierre_publicacion',\n",
    "                'created_on':'fecha_alta_publi',\n",
    "                'l1':'pais_publi',\n",
    "                'l2':'provincia',\n",
    "                'l3':'ciudad',\n",
    "                'l4':'barrio',\n",
    "                'l5':'sector_propiedad',\n",
    "                'l6':'tipo_operacion',\n",
    "                'rooms':'cantidad_habitaciones',\n",
    "                'bathrooms':'cantidad_banios',\n",
    "                'surface_total':'superf_total',\n",
    "                'surface_covered':'superf_cubierta',\n",
    "                'price':'precio',\n",
    "                'currency':'tipo_moneda_publicada',\n",
    "                'price_period':'period_precio_public',\n",
    "                'title':'titulo_anuncio',\n",
    "                'description':'descripc_anuncio',\n",
    "                'development':'desarrollo_inmobiliario',\n",
    "                'property_type':'descripcion_propiedad',\n",
    "                'operation_type':'tipo_operacion'})"
   ]
  },
  {
   "cell_type": "code",
   "execution_count": 9,
   "metadata": {},
   "outputs": [
    {
     "data": {
      "text/plain": [
       "Index(['id', 'tipo_aviso', 'inicio_publicacion', 'cierre_publicacion',\n",
       "       'fecha_alta_publi', 'lat', 'lon', 'pais_publi', 'provincia', 'ciudad',\n",
       "       'barrio', 'sector_propiedad', 'tipo_operacion', 'cantidad_habitaciones',\n",
       "       'bedrooms', 'cantidad_banios', 'superf_total', 'superf_cubierta',\n",
       "       'precio', 'tipo_moneda_publicada', 'period_precio_public',\n",
       "       'titulo_anuncio', 'descripc_anuncio', 'descripcion_propiedad',\n",
       "       'tipo_operacion'],\n",
       "      dtype='object')"
      ]
     },
     "execution_count": 9,
     "metadata": {},
     "output_type": "execute_result"
    }
   ],
   "source": [
    "df2.columns"
   ]
  },
  {
   "cell_type": "markdown",
   "metadata": {},
   "source": [
    "# Realizamos un analisis preliminar de las variables para saber que contienen "
   ]
  },
  {
   "cell_type": "markdown",
   "metadata": {},
   "source": [
    "# Realizamos distribuciones de frecuencia para ver las categorias de estas variables"
   ]
  },
  {
   "cell_type": "code",
   "execution_count": 14,
   "metadata": {},
   "outputs": [
    {
     "data": {
      "text/plain": [
       "Index(['id', 'tipo_aviso', 'inicio_publicacion', 'cierre_publicacion',\n",
       "       'fecha_alta_publi', 'lat', 'lon', 'pais_publi', 'provincia', 'ciudad',\n",
       "       'barrio', 'sector_propiedad', 'tipo_operacion', 'cantidad_habitaciones',\n",
       "       'bedrooms', 'cantidad_banios', 'superf_total', 'superf_cubierta',\n",
       "       'precio', 'tipo_moneda_publicada', 'period_precio_public',\n",
       "       'titulo_anuncio', 'descripc_anuncio', 'descripcion_propiedad',\n",
       "       'tipo_operacion'],\n",
       "      dtype='object')"
      ]
     },
     "execution_count": 14,
     "metadata": {},
     "output_type": "execute_result"
    }
   ],
   "source": [
    "df2.columns"
   ]
  },
  {
   "cell_type": "code",
   "execution_count": 16,
   "metadata": {},
   "outputs": [
    {
     "name": "stdout",
     "output_type": "stream",
     "text": [
      "       tipo_aviso\n",
      "0       Propiedad\n",
      "1       Propiedad\n",
      "2       Propiedad\n",
      "3       Propiedad\n",
      "4       Propiedad\n",
      "...           ...\n",
      "999995  Propiedad\n",
      "999996  Propiedad\n",
      "999997  Propiedad\n",
      "999998  Propiedad\n",
      "999999  Propiedad\n",
      "\n",
      "[1000000 rows x 1 columns]\n"
     ]
    },
    {
     "name": "stderr",
     "output_type": "stream",
     "text": [
      "C:\\Users\\zarac\\AppData\\Local\\Temp\\ipykernel_6868\\4148198608.py:1: FutureWarning: Passing a set as an indexer is deprecated and will raise in a future version. Use a list instead.\n",
      "  tipo_aviso = df2[{'tipo_aviso'}]\n"
     ]
    }
   ],
   "source": [
    "tipo_aviso = df2[{'tipo_aviso'}]\n",
    "print(tipo_aviso)"
   ]
  },
  {
   "cell_type": "code",
   "execution_count": 18,
   "metadata": {},
   "outputs": [
    {
     "name": "stdout",
     "output_type": "stream",
     "text": [
      "            frecuencias\n",
      "tipo_aviso             \n",
      "Propiedad       1000000\n"
     ]
    }
   ],
   "source": [
    "#realicé una distribución de frecuencias para ver las categorias de la variable\n",
    "\n",
    "frecuencia_tipo_aviso = (tipo_aviso.groupby(\"tipo_aviso\").\n",
    "agg(frecuencias=(\"tipo_aviso\",\"count\")))\n",
    "\n",
    "print(frecuencia_tipo_aviso)                \n",
    "\n"
   ]
  },
  {
   "cell_type": "code",
   "execution_count": 19,
   "metadata": {},
   "outputs": [
    {
     "data": {
      "text/plain": [
       "Index(['id', 'tipo_aviso', 'inicio_publicacion', 'cierre_publicacion',\n",
       "       'fecha_alta_publi', 'lat', 'lon', 'pais_publi', 'provincia', 'ciudad',\n",
       "       'barrio', 'sector_propiedad', 'tipo_operacion', 'cantidad_habitaciones',\n",
       "       'bedrooms', 'cantidad_banios', 'superf_total', 'superf_cubierta',\n",
       "       'precio', 'tipo_moneda_publicada', 'period_precio_public',\n",
       "       'titulo_anuncio', 'descripc_anuncio', 'descripcion_propiedad',\n",
       "       'tipo_operacion'],\n",
       "      dtype='object')"
      ]
     },
     "execution_count": 19,
     "metadata": {},
     "output_type": "execute_result"
    }
   ],
   "source": [
    "df2.columns"
   ]
  },
  {
   "cell_type": "code",
   "execution_count": 23,
   "metadata": {},
   "outputs": [
    {
     "name": "stdout",
     "output_type": "stream",
     "text": [
      "       inicio_publicacion\n",
      "0              2020-08-22\n",
      "1              2020-08-22\n",
      "2              2020-08-22\n",
      "3              2020-08-22\n",
      "4              2020-08-22\n",
      "...                   ...\n",
      "999995         2020-12-04\n",
      "999996         2020-12-04\n",
      "999997         2020-12-04\n",
      "999998         2020-12-04\n",
      "999999         2020-12-04\n",
      "\n",
      "[1000000 rows x 1 columns]\n"
     ]
    },
    {
     "name": "stderr",
     "output_type": "stream",
     "text": [
      "C:\\Users\\zarac\\AppData\\Local\\Temp\\ipykernel_6868\\1095296772.py:1: FutureWarning: Passing a set as an indexer is deprecated and will raise in a future version. Use a list instead.\n",
      "  inicio_publicacion= df2[{'inicio_publicacion'}]\n"
     ]
    }
   ],
   "source": [
    "inicio_publicacion= df2[{'inicio_publicacion'}]\n",
    "\n",
    "print (inicio_publicacion)"
   ]
  },
  {
   "cell_type": "code",
   "execution_count": 31,
   "metadata": {},
   "outputs": [
    {
     "name": "stdout",
     "output_type": "stream",
     "text": [
      "                    frecuencias\n",
      "inicio_publicacion             \n",
      "2020-05-24                  975\n",
      "2020-05-25                 1204\n",
      "2020-05-26                 2420\n",
      "2020-05-27                 2371\n",
      "2020-05-28                 3046\n",
      "...                         ...\n",
      "2021-06-12                 1512\n",
      "2021-06-13                  589\n",
      "2021-06-15                 3538\n",
      "2021-06-16                 3916\n",
      "2021-06-17                 3879\n",
      "\n",
      "[362 rows x 1 columns]\n"
     ]
    }
   ],
   "source": [
    "frecuencia_inicio_publicacion = (inicio_publicacion.groupby(\"inicio_publicacion\").\n",
    "agg(frecuencias=(\"inicio_publicacion\",\"count\")))\n",
    "\n",
    "print(frecuencia_inicio_publicacion)"
   ]
  },
  {
   "cell_type": "code",
   "execution_count": 32,
   "metadata": {},
   "outputs": [
    {
     "data": {
      "text/plain": [
       "Index(['id', 'tipo_aviso', 'inicio_publicacion', 'cierre_publicacion',\n",
       "       'fecha_alta_publi', 'lat', 'lon', 'pais_publi', 'provincia', 'ciudad',\n",
       "       'barrio', 'sector_propiedad', 'tipo_operacion', 'cantidad_habitaciones',\n",
       "       'bedrooms', 'cantidad_banios', 'superf_total', 'superf_cubierta',\n",
       "       'precio', 'tipo_moneda_publicada', 'period_precio_public',\n",
       "       'titulo_anuncio', 'descripc_anuncio', 'descripcion_propiedad',\n",
       "       'tipo_operacion'],\n",
       "      dtype='object')"
      ]
     },
     "execution_count": 32,
     "metadata": {},
     "output_type": "execute_result"
    }
   ],
   "source": [
    "df2.columns"
   ]
  },
  {
   "cell_type": "code",
   "execution_count": 33,
   "metadata": {},
   "outputs": [
    {
     "name": "stdout",
     "output_type": "stream",
     "text": [
      "                           provincia\n",
      "0           Bs.As. G.B.A. Zona Norte\n",
      "1       Buenos Aires Costa Atlántica\n",
      "2                         Entre Ríos\n",
      "3                           Misiones\n",
      "4                           Santa Fe\n",
      "...                              ...\n",
      "999995                      Santa Fe\n",
      "999996               Capital Federal\n",
      "999997               Capital Federal\n",
      "999998                       Mendoza\n",
      "999999      Bs.As. G.B.A. Zona Norte\n",
      "\n",
      "[1000000 rows x 1 columns]\n"
     ]
    },
    {
     "name": "stderr",
     "output_type": "stream",
     "text": [
      "C:\\Users\\zarac\\AppData\\Local\\Temp\\ipykernel_6868\\268846037.py:1: FutureWarning: Passing a set as an indexer is deprecated and will raise in a future version. Use a list instead.\n",
      "  provincia = df2[{'provincia'}]\n"
     ]
    }
   ],
   "source": [
    "provincia = df2[{'provincia'}]\n",
    "\n",
    "print(provincia)"
   ]
  },
  {
   "cell_type": "code",
   "execution_count": 34,
   "metadata": {},
   "outputs": [
    {
     "name": "stdout",
     "output_type": "stream",
     "text": [
      "                              frecuencias\n",
      "provincia                                \n",
      "Bs.As. G.B.A. Zona Norte           184310\n",
      "Bs.As. G.B.A. Zona Oeste            76786\n",
      "Bs.As. G.B.A. Zona Sur             131431\n",
      "Buenos Aires Costa Atlántica        73759\n",
      "Buenos Aires Interior               23975\n",
      "California                              4\n",
      "Canelones                             720\n",
      "Capital Federal                    265125\n",
      "Catamarca                             466\n",
      "Chaco                                1716\n",
      "Chubut                               1529\n",
      "Colonia                              1213\n",
      "Corrientes                           1573\n",
      "Córdoba                             66274\n",
      "Entre Ríos                           6750\n",
      "Florida                               518\n",
      "Formosa                                30\n",
      "Jujuy                                 715\n",
      "La Pampa                             1660\n",
      "La Rioja                              487\n",
      "Maldonado                            7784\n",
      "Maryland                               27\n",
      "Mendoza                              9172\n",
      "Miami                                  70\n",
      "Michigan                              262\n",
      "Misiones                             4516\n",
      "Montevideo                           5909\n",
      "Neuquén                             15487\n",
      "Pennsylvania                           11\n",
      "Rio Grande do Norte                    47\n",
      "Rio de Janeiro                         15\n",
      "Rocha                                 123\n",
      "Río Negro                            7935\n",
      "Salta                                6056\n",
      "San Juan                             1390\n",
      "San Luis                             2654\n",
      "Santa Catarina                         40\n",
      "Santa Cruz                            453\n",
      "Santa Fe                            91565\n",
      "Santiago Del Estero                   325\n",
      "São Paulo                             142\n",
      "Tierra Del Fuego                      445\n",
      "Tucumán                              6531\n"
     ]
    }
   ],
   "source": [
    "frecuencia_provincia = (provincia.groupby(\"provincia\").\n",
    "agg(frecuencias=(\"provincia\",\"count\")))\n",
    "\n",
    "print(frecuencia_provincia)"
   ]
  },
  {
   "cell_type": "code",
   "execution_count": 39,
   "metadata": {},
   "outputs": [
    {
     "ename": "KeyError",
     "evalue": "'Capital Federal'",
     "output_type": "error",
     "traceback": [
      "\u001b[1;31m---------------------------------------------------------------------------\u001b[0m",
      "\u001b[1;31mKeyError\u001b[0m                                  Traceback (most recent call last)",
      "File \u001b[1;32mc:\\Users\\zarac\\anaconda3\\lib\\site-packages\\pandas\\core\\indexes\\base.py:3621\u001b[0m, in \u001b[0;36mIndex.get_loc\u001b[1;34m(self, key, method, tolerance)\u001b[0m\n\u001b[0;32m   3620\u001b[0m \u001b[39mtry\u001b[39;00m:\n\u001b[1;32m-> 3621\u001b[0m     \u001b[39mreturn\u001b[39;00m \u001b[39mself\u001b[39;49m\u001b[39m.\u001b[39;49m_engine\u001b[39m.\u001b[39;49mget_loc(casted_key)\n\u001b[0;32m   3622\u001b[0m \u001b[39mexcept\u001b[39;00m \u001b[39mKeyError\u001b[39;00m \u001b[39mas\u001b[39;00m err:\n",
      "File \u001b[1;32mc:\\Users\\zarac\\anaconda3\\lib\\site-packages\\pandas\\_libs\\index.pyx:136\u001b[0m, in \u001b[0;36mpandas._libs.index.IndexEngine.get_loc\u001b[1;34m()\u001b[0m\n",
      "File \u001b[1;32mc:\\Users\\zarac\\anaconda3\\lib\\site-packages\\pandas\\_libs\\index.pyx:160\u001b[0m, in \u001b[0;36mpandas._libs.index.IndexEngine.get_loc\u001b[1;34m()\u001b[0m\n",
      "File \u001b[1;32mc:\\Users\\zarac\\anaconda3\\lib\\site-packages\\pandas\\_libs\\index.pyx:201\u001b[0m, in \u001b[0;36mpandas._libs.index.IndexEngine._get_loc_duplicates\u001b[1;34m()\u001b[0m\n",
      "File \u001b[1;32mc:\\Users\\zarac\\anaconda3\\lib\\site-packages\\pandas\\_libs\\index.pyx:209\u001b[0m, in \u001b[0;36mpandas._libs.index.IndexEngine._maybe_get_bool_indexer\u001b[1;34m()\u001b[0m\n",
      "File \u001b[1;32mc:\\Users\\zarac\\anaconda3\\lib\\site-packages\\pandas\\_libs\\index.pyx:107\u001b[0m, in \u001b[0;36mpandas._libs.index._unpack_bool_indexer\u001b[1;34m()\u001b[0m\n",
      "\u001b[1;31mKeyError\u001b[0m: 'Capital Federal'",
      "\nThe above exception was the direct cause of the following exception:\n",
      "\u001b[1;31mKeyError\u001b[0m                                  Traceback (most recent call last)",
      "\u001b[1;32mc:\\Users\\zarac\\OneDrive\\Escritorio\\Ateneo\\Lab de datos habitat\\base properati\\properati.ipynb Celda 22\u001b[0m in \u001b[0;36m<cell line: 3>\u001b[1;34m()\u001b[0m\n\u001b[0;32m      <a href='vscode-notebook-cell:/c%3A/Users/zarac/OneDrive/Escritorio/Ateneo/Lab%20de%20datos%20habitat/base%20properati/properati.ipynb#X66sZmlsZQ%3D%3D?line=0'>1</a>\u001b[0m df_mask\u001b[39m=\u001b[39mdf2[\u001b[39m'\u001b[39m\u001b[39mprovincia\u001b[39m\u001b[39m'\u001b[39m]\u001b[39m==\u001b[39m\u001b[39m'\u001b[39m\u001b[39mCapital Federal\u001b[39m\u001b[39m'\u001b[39m\n\u001b[1;32m----> <a href='vscode-notebook-cell:/c%3A/Users/zarac/OneDrive/Escritorio/Ateneo/Lab%20de%20datos%20habitat/base%20properati/properati.ipynb#X66sZmlsZQ%3D%3D?line=2'>3</a>\u001b[0m df_mask\u001b[39m=\u001b[39mdf2[\u001b[39m'\u001b[39;49m\u001b[39mCapital Federal\u001b[39;49m\u001b[39m'\u001b[39;49m]\u001b[39m==\u001b[39m\u001b[39m'\u001b[39m\u001b[39mCapital Federal\u001b[39m\u001b[39m'\u001b[39m\n\u001b[0;32m      <a href='vscode-notebook-cell:/c%3A/Users/zarac/OneDrive/Escritorio/Ateneo/Lab%20de%20datos%20habitat/base%20properati/properati.ipynb#X66sZmlsZQ%3D%3D?line=3'>4</a>\u001b[0m positions \u001b[39m=\u001b[39m np\u001b[39m.\u001b[39mflatnonzero(df_mask)\n\u001b[0;32m      <a href='vscode-notebook-cell:/c%3A/Users/zarac/OneDrive/Escritorio/Ateneo/Lab%20de%20datos%20habitat/base%20properati/properati.ipynb#X66sZmlsZQ%3D%3D?line=4'>5</a>\u001b[0m filtered_df\u001b[39m=\u001b[39mdf2\u001b[39m.\u001b[39miloc[positions]\n",
      "File \u001b[1;32mc:\\Users\\zarac\\anaconda3\\lib\\site-packages\\pandas\\core\\frame.py:3505\u001b[0m, in \u001b[0;36mDataFrame.__getitem__\u001b[1;34m(self, key)\u001b[0m\n\u001b[0;32m   3503\u001b[0m \u001b[39mif\u001b[39;00m \u001b[39mself\u001b[39m\u001b[39m.\u001b[39mcolumns\u001b[39m.\u001b[39mnlevels \u001b[39m>\u001b[39m \u001b[39m1\u001b[39m:\n\u001b[0;32m   3504\u001b[0m     \u001b[39mreturn\u001b[39;00m \u001b[39mself\u001b[39m\u001b[39m.\u001b[39m_getitem_multilevel(key)\n\u001b[1;32m-> 3505\u001b[0m indexer \u001b[39m=\u001b[39m \u001b[39mself\u001b[39;49m\u001b[39m.\u001b[39;49mcolumns\u001b[39m.\u001b[39;49mget_loc(key)\n\u001b[0;32m   3506\u001b[0m \u001b[39mif\u001b[39;00m is_integer(indexer):\n\u001b[0;32m   3507\u001b[0m     indexer \u001b[39m=\u001b[39m [indexer]\n",
      "File \u001b[1;32mc:\\Users\\zarac\\anaconda3\\lib\\site-packages\\pandas\\core\\indexes\\base.py:3623\u001b[0m, in \u001b[0;36mIndex.get_loc\u001b[1;34m(self, key, method, tolerance)\u001b[0m\n\u001b[0;32m   3621\u001b[0m     \u001b[39mreturn\u001b[39;00m \u001b[39mself\u001b[39m\u001b[39m.\u001b[39m_engine\u001b[39m.\u001b[39mget_loc(casted_key)\n\u001b[0;32m   3622\u001b[0m \u001b[39mexcept\u001b[39;00m \u001b[39mKeyError\u001b[39;00m \u001b[39mas\u001b[39;00m err:\n\u001b[1;32m-> 3623\u001b[0m     \u001b[39mraise\u001b[39;00m \u001b[39mKeyError\u001b[39;00m(key) \u001b[39mfrom\u001b[39;00m \u001b[39merr\u001b[39;00m\n\u001b[0;32m   3624\u001b[0m \u001b[39mexcept\u001b[39;00m \u001b[39mTypeError\u001b[39;00m:\n\u001b[0;32m   3625\u001b[0m     \u001b[39m# If we have a listlike key, _check_indexing_error will raise\u001b[39;00m\n\u001b[0;32m   3626\u001b[0m     \u001b[39m#  InvalidIndexError. Otherwise we fall through and re-raise\u001b[39;00m\n\u001b[0;32m   3627\u001b[0m     \u001b[39m#  the TypeError.\u001b[39;00m\n\u001b[0;32m   3628\u001b[0m     \u001b[39mself\u001b[39m\u001b[39m.\u001b[39m_check_indexing_error(key)\n",
      "\u001b[1;31mKeyError\u001b[0m: 'Capital Federal'"
     ]
    }
   ],
   "source": [
    "df_mask=df2['provincia']=='Capital Federal'\n",
    "\n",
    "df_mask=df2['Capital Federal']=='Capital Federal'\n",
    "positions = np.flatnonzero(df_mask)\n",
    "filtered_df=df2.iloc[positions]\n",
    "print(filtered_df)"
   ]
  },
  {
   "cell_type": "markdown",
   "metadata": {},
   "source": [
    "# Tenemos que limpiar las categorias y quedarnos solamente con los 265125 de CABA"
   ]
  },
  {
   "cell_type": "code",
   "execution_count": 35,
   "metadata": {},
   "outputs": [
    {
     "data": {
      "text/plain": [
       "Index(['id', 'tipo_aviso', 'inicio_publicacion', 'cierre_publicacion',\n",
       "       'fecha_alta_publi', 'lat', 'lon', 'pais_publi', 'provincia', 'ciudad',\n",
       "       'barrio', 'sector_propiedad', 'tipo_operacion', 'cantidad_habitaciones',\n",
       "       'bedrooms', 'cantidad_banios', 'superf_total', 'superf_cubierta',\n",
       "       'precio', 'tipo_moneda_publicada', 'period_precio_public',\n",
       "       'titulo_anuncio', 'descripc_anuncio', 'descripcion_propiedad',\n",
       "       'tipo_operacion'],\n",
       "      dtype='object')"
      ]
     },
     "execution_count": 35,
     "metadata": {},
     "output_type": "execute_result"
    }
   ],
   "source": [
    "df2.columns"
   ]
  },
  {
   "cell_type": "code",
   "execution_count": 36,
   "metadata": {},
   "outputs": [
    {
     "name": "stdout",
     "output_type": "stream",
     "text": [
      "               ciudad\n",
      "0               Pilar\n",
      "1       Mar del Plata\n",
      "2           Concordia\n",
      "3               Oberá\n",
      "4             Rosario\n",
      "...               ...\n",
      "999995        Rosario\n",
      "999996         Retiro\n",
      "999997        Palermo\n",
      "999998            NaN\n",
      "999999          Tigre\n",
      "\n",
      "[1000000 rows x 1 columns]\n"
     ]
    },
    {
     "name": "stderr",
     "output_type": "stream",
     "text": [
      "C:\\Users\\zarac\\AppData\\Local\\Temp\\ipykernel_6868\\2430239774.py:1: FutureWarning: Passing a set as an indexer is deprecated and will raise in a future version. Use a list instead.\n",
      "  ciudad = df2[{'ciudad'}]\n"
     ]
    }
   ],
   "source": [
    "ciudad = df2[{'ciudad'}]\n",
    "print(ciudad)"
   ]
  },
  {
   "cell_type": "code",
   "execution_count": 38,
   "metadata": {},
   "outputs": [
    {
     "name": "stdout",
     "output_type": "stream",
     "text": [
      "                frecuencia\n",
      "ciudad                    \n",
      "9 de Julio              16\n",
      "Abasto                 851\n",
      "Acceso Norte             2\n",
      "Acebal                  11\n",
      "Achiras                  5\n",
      "...                    ...\n",
      "Zárate                 304\n",
      "orquincó                 2\n",
      "Álvarez                 30\n",
      "Ámbul                    6\n",
      "Ángel Gallardo           7\n",
      "\n",
      "[1367 rows x 1 columns]\n"
     ]
    }
   ],
   "source": [
    "frecuencia_ciudad = (ciudad.groupby(\"ciudad\").\n",
    "agg(frecuencia=(\"ciudad\",\"count\")))\n",
    "\n",
    "print(frecuencia_ciudad)"
   ]
  },
  {
   "cell_type": "markdown",
   "metadata": {},
   "source": [
    "# FRECUENCIAS DE LAS VARIABLES\n",
    "'description', 'property_type', 'operation_type'"
   ]
  },
  {
   "cell_type": "code",
   "execution_count": 6,
   "metadata": {},
   "outputs": [
    {
     "name": "stdout",
     "output_type": "stream",
     "text": [
      "           operation_type                                        description  \\\n",
      "0                   Venta  Lote (Nro.50) mide 133.139 m2\\n<br>Valor: U$S ...   \n",
      "1                   Venta  Conjunto edilicio de casa y departamentos en b...   \n",
      "2                Alquiler  Casa de un dormitorio, cocina, baño, living co...   \n",
      "3                   Venta  IMPORTANTE PROPIEDAD EN VENTA EN OBERA MISIONE...   \n",
      "4                   Venta  PORTAL DE LOS MARINOS<br>Es un complejo de viv...   \n",
      "...                   ...                                                ...   \n",
      "999995              Venta  Esta excelente propiedad se encuentra ubicada ...   \n",
      "999996           Alquiler  GRAN EDIFICIO PETIT HOTEL ESTILO FRANCÉS  CON ...   \n",
      "999997              Venta  Edificio Comercial CON ENTRADA INDEPENDIENTE S...   \n",
      "999998              Venta  Local 450m² con Cloaca en 25 de mayo, Argentin...   \n",
      "999999  Alquiler temporal  ESPECTACULAR CASA A LA LAGUNA  -BARRIO SANTA B...   \n",
      "\n",
      "          property_type  \n",
      "0                  Lote  \n",
      "1                  Otro  \n",
      "2                  Casa  \n",
      "3                  Lote  \n",
      "4          Departamento  \n",
      "...                 ...  \n",
      "999995             Casa  \n",
      "999996  Local comercial  \n",
      "999997  Local comercial  \n",
      "999998  Local comercial  \n",
      "999999             Casa  \n",
      "\n",
      "[1000000 rows x 3 columns]\n"
     ]
    },
    {
     "name": "stderr",
     "output_type": "stream",
     "text": [
      "C:\\Users\\zarac\\AppData\\Local\\Temp\\ipykernel_6868\\4016162468.py:1: FutureWarning: Passing a set as an indexer is deprecated and will raise in a future version. Use a list instead.\n",
      "  variables = df[{'description', 'property_type', 'operation_type'}]\n"
     ]
    }
   ],
   "source": [
    "variables = df[{'description', 'property_type', 'operation_type'}]\n",
    "\n",
    "print(variables)"
   ]
  },
  {
   "cell_type": "code",
   "execution_count": 10,
   "metadata": {},
   "outputs": [
    {
     "name": "stdout",
     "output_type": "stream",
     "text": [
      "                   frecuencias\n",
      "operation_type                \n",
      "Alquiler                207490\n",
      "Alquiler temporal        41679\n",
      "Venta                   750831\n"
     ]
    }
   ],
   "source": [
    "frecuencia_operation_type = (df.groupby(\"operation_type\").\n",
    "agg(frecuencias=(\"operation_type\",\"count\")))\n",
    "\n",
    "print(frecuencia_operation_type)"
   ]
  },
  {
   "cell_type": "code",
   "execution_count": 11,
   "metadata": {},
   "outputs": [
    {
     "name": "stdout",
     "output_type": "stream",
     "text": [
      "                 frecuencias\n",
      "property_type               \n",
      "Casa                  245726\n",
      "Casa de campo           2251\n",
      "Cochera                13276\n",
      "Departamento          457907\n",
      "Depósito                7872\n",
      "Local comercial        45593\n",
      "Lote                  121311\n",
      "Oficina                32390\n",
      "Otro                   27837\n",
      "PH                     45837\n"
     ]
    }
   ],
   "source": [
    "frecuencia_property_type = (df.groupby(\"property_type\").\n",
    "agg(frecuencias=(\"property_type\",\"count\")))\n",
    "\n",
    "print(frecuencia_property_type)"
   ]
  },
  {
   "cell_type": "markdown",
   "metadata": {},
   "source": [
    "# Analisis de nulos en la base"
   ]
  },
  {
   "cell_type": "code",
   "execution_count": 12,
   "metadata": {},
   "outputs": [
    {
     "name": "stdout",
     "output_type": "stream",
     "text": [
      "tiene nulos\n"
     ]
    }
   ],
   "source": [
    "# identificamos si tiene o no tiene nulls la variable l4\n",
    "\n",
    "l4 = None  \n",
    "if l4 is None:\n",
    " print('tiene nulos')\n",
    "else:\n",
    " print('no tiene nulos')"
   ]
  },
  {
   "cell_type": "code",
   "execution_count": 29,
   "metadata": {},
   "outputs": [
    {
     "name": "stdout",
     "output_type": "stream",
     "text": [
      "id                       0\n",
      "ad_type                  0\n",
      "start_date               0\n",
      "end_date                 0\n",
      "created_on               0\n",
      "lat                 105767\n",
      "lon                 105809\n",
      "l1                       0\n",
      "l2                       0\n",
      "l3                   34727\n",
      "l4                  693838\n",
      "l5                  994470\n",
      "l6                 1000000\n",
      "rooms               285821\n",
      "bedrooms            350067\n",
      "bathrooms           234878\n",
      "surface_total       522169\n",
      "surface_covered     512244\n",
      "price                41757\n",
      "currency             44509\n",
      "price_period        570130\n",
      "title                    1\n",
      "description             42\n",
      "property_type            0\n",
      "operation_type           0\n",
      "dtype: int64\n"
     ]
    }
   ],
   "source": [
    "# al ver que tiene nulls, lo que hacemos es corroborar si el resto de las variables tambien tienen nulls. \n",
    "\n",
    "df\n",
    "\n",
    "print(len(df)-df.count()) #identificamos los nulos sobre el total de las variables de la base"
   ]
  },
  {
   "cell_type": "markdown",
   "metadata": {},
   "source": [
    "# analizamos las categorias de las variables "
   ]
  },
  {
   "cell_type": "code",
   "execution_count": null,
   "metadata": {},
   "outputs": [],
   "source": [
    "# armar listas para buscar las comunas\n",
    "\n",
    "str_match = [s for s in my_list if s.__contains__(\"ack\")]\n",
    "print(str_match)"
   ]
  },
  {
   "cell_type": "code",
   "execution_count": null,
   "metadata": {},
   "outputs": [],
   "source": []
  },
  {
   "cell_type": "markdown",
   "metadata": {},
   "source": [
    "# PROCEDO A LIMPIAR LAS VARIABLES QUE NO VAMOS A USAR PARA ESTE ANÁLISIS"
   ]
  },
  {
   "cell_type": "code",
   "execution_count": null,
   "metadata": {},
   "outputs": [],
   "source": []
  },
  {
   "cell_type": "code",
   "execution_count": 12,
   "metadata": {},
   "outputs": [
    {
     "data": {
      "text/plain": [
       "Index(['id', 'tipo_aviso', 'inicio_publicacion', 'cierre_publicacion',\n",
       "       'fecha_alta_publi', 'lat', 'lon', 'pais_publi', 'provincia', 'ciudad',\n",
       "       'barrio', 'sector_propiedad', 'tipo_operacion', 'cantidad_habitaciones',\n",
       "       'bedrooms', 'cantidad_banios', 'superf_total', 'superf_cubierta',\n",
       "       'precio', 'tipo_moneda_publicada', 'period_precio_public',\n",
       "       'titulo_anuncio', 'descripc_anuncio', 'descripcion_propiedad',\n",
       "       'tipo_operacion'],\n",
       "      dtype='object')"
      ]
     },
     "execution_count": 12,
     "metadata": {},
     "output_type": "execute_result"
    }
   ],
   "source": [
    "df2.columns"
   ]
  },
  {
   "cell_type": "code",
   "execution_count": null,
   "metadata": {},
   "outputs": [],
   "source": [
    "df2 = df2.drop(columnas = [\n",
    "       'cantidad_habitaciones',\n",
    "       'bedrooms', 'cantidad_banios', \n",
    "       'superf_total', 'superf_cubierta',\n",
    "       'descripc_anuncio'])\n",
    "df2.head()"
   ]
  },
  {
   "cell_type": "code",
   "execution_count": null,
   "metadata": {},
   "outputs": [],
   "source": [
    "# actualizar el infoerm de acuerdo a los comentarios realizadoe en el dia de la fecha\n",
    "# ir detectando que elelemtnos puede ser analizados desde el marco conceptual de smart city/ ciudades globales/mercantilizacion del suelo, etc\n",
    "#\n",
    "\n"
   ]
  },
  {
   "cell_type": "code",
   "execution_count": null,
   "metadata": {},
   "outputs": [],
   "source": []
  },
  {
   "cell_type": "code",
   "execution_count": null,
   "metadata": {},
   "outputs": [],
   "source": []
  },
  {
   "cell_type": "code",
   "execution_count": null,
   "metadata": {},
   "outputs": [],
   "source": []
  },
  {
   "cell_type": "code",
   "execution_count": null,
   "metadata": {},
   "outputs": [],
   "source": []
  },
  {
   "cell_type": "code",
   "execution_count": null,
   "metadata": {},
   "outputs": [],
   "source": []
  },
  {
   "cell_type": "code",
   "execution_count": 1,
   "metadata": {},
   "outputs": [],
   "source": [
    "from scipy import stats\n",
    "\n",
    "class capa():\n",
    "  def __init__(self, n_neuronas_capa_anterior, n_neuronas, funcion_act):\n",
    "    self.funcion_act = funcion_act\n",
    "    self.b  = np.round(stats.truncnorm.rvs(-1, 1, loc=0, scale=1, size= n_neuronas).reshape(1,n_neuronas),3)\n",
    "    self.W  = np.round(stats.truncnorm.rvs(-1, 1, loc=0, scale=1, size= n_neuronas * n_neuronas_capa_anterior).reshape(n_neuronas_capa_anterior,n_neuronas),3)"
   ]
  }
 ],
 "metadata": {
  "kernelspec": {
   "display_name": "Python 3.9.12 ('base')",
   "language": "python",
   "name": "python3"
  },
  "language_info": {
   "codemirror_mode": {
    "name": "ipython",
    "version": 3
   },
   "file_extension": ".py",
   "mimetype": "text/x-python",
   "name": "python",
   "nbconvert_exporter": "python",
   "pygments_lexer": "ipython3",
   "version": "3.9.12"
  },
  "orig_nbformat": 4,
  "vscode": {
   "interpreter": {
    "hash": "de1f96308333a0fbda4b1b74b195ffc41e189e86ece14c661722c8b4f7e4e878"
   }
  }
 },
 "nbformat": 4,
 "nbformat_minor": 2
}
